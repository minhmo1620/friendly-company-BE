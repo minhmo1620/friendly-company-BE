{
 "cells": [
  {
   "cell_type": "code",
   "execution_count": 1,
   "id": "d39eb895",
   "metadata": {},
   "outputs": [],
   "source": [
    "import pandas as pd"
   ]
  },
  {
   "cell_type": "code",
   "execution_count": 2,
   "id": "32fa7889",
   "metadata": {},
   "outputs": [],
   "source": [
    "# Get all csv\n",
    "# from os import listdir\n",
    "# from os.path import isfile, join\n",
    "# onlyfiles = [f for f in listdir('./') if isfile(join('./', f))]\n",
    "# onlyfiles\n",
    "\n",
    "files_name = [\n",
    "    'LCA_FY2021_Q3.csv',\n",
    "    'LCA_FY2017.csv',\n",
    "    'LCA_FY2016.csv',\n",
    "    'LCA_FY2021_Q2.csv',\n",
    "    'LCA_FY2021_Q1.csv',\n",
    "    'LCA_FY2021_Q4.csv',\n",
    "    'LCA_FY2020_Q1.csv',\n",
    "    'LCA_FY2020_Q2.csv',\n",
    "    'LCA_FY2020_Q3.csv',\n",
    "    'LCA_FY2018.csv',\n",
    "    'LCA_FY2020_Q4.csv'\n",
    "]\n",
    "\n",
    "columns = [\n",
    "    'CASE_STATUS',\n",
    "    'RECEIVED_DATE',\n",
    "    'DECISION_DATE',\n",
    "    'ORIGINAL_CERT_DATE',\n",
    "    'VISA_CLASS',\n",
    "    'SOC_CODE',\n",
    "    'SOC_TITLE',\n",
    "    'FULL_TIME_POSITION',\n",
    "    'EMPLOYER_NAME',\n",
    "    'EMPLOYER_CITY',\n",
    "    'EMPLOYER_STATE',\n",
    "    'AGENT_REPRESENTING_EMPLOYER',\n",
    "    'LAWFIRM_NAME_BUSINESS_NAME',\n",
    "    'WAGE_RATE_OF_PAY_FROM',\n",
    "    'WAGE_RATE_OF_PAY_TO',\n",
    "    'WAGE_UNIT_OF_PAY', \n",
    "    'PREVAILING_WAGE',\n",
    "    'PW_UNIT_OF_PAY'\n",
    "]"
   ]
  },
  {
   "cell_type": "code",
   "execution_count": 3,
   "id": "5e20857a",
   "metadata": {},
   "outputs": [],
   "source": [
    "for i in range (len(files_name)):\n",
    "    file_name = files_name[i]\n",
    "    data = pd.read_csv('./raw_data_csv/' + files_name[0])\n",
    "    data = data[columns]\n",
    "    data.to_csv('./filtered_columns_data/' + file_name, encoding='utf-8', index=False)"
   ]
  },
  {
   "cell_type": "code",
   "execution_count": null,
   "id": "d0338515",
   "metadata": {},
   "outputs": [],
   "source": []
  }
 ],
 "metadata": {
  "kernelspec": {
   "display_name": "Python 3 (ipykernel)",
   "language": "python",
   "name": "python3"
  },
  "language_info": {
   "codemirror_mode": {
    "name": "ipython",
    "version": 3
   },
   "file_extension": ".py",
   "mimetype": "text/x-python",
   "name": "python",
   "nbconvert_exporter": "python",
   "pygments_lexer": "ipython3",
   "version": "3.9.7"
  }
 },
 "nbformat": 4,
 "nbformat_minor": 5
}
