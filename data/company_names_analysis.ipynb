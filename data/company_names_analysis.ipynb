{
 "cells": [
  {
   "cell_type": "code",
   "execution_count": 1,
   "id": "65b012bf",
   "metadata": {},
   "outputs": [
    {
     "name": "stderr",
     "output_type": "stream",
     "text": [
      "/Users/soomi/anaconda3/lib/python3.7/site-packages/pandas/core/reshape/concat.py:304: DtypeWarning: Columns (3) have mixed types.Specify dtype option on import or set low_memory=False.\n",
      "  sort=sort,\n"
     ]
    }
   ],
   "source": [
    "import pandas as pd\n",
    "import numpy as np\n",
    "\n",
    "file_path = './filtered_columns_data/'\n",
    "\n",
    "raw_data2016 = pd.read_csv(file_path + 'LCA_FY2016.csv')\n",
    "raw_data2016 = raw_data2016.rename({'CASE_SUBMITTED': 'RECEIVED_DATE', 'SOC_NAME': 'SOC_TITLE'}, axis=1)\n",
    "\n",
    "raw_data2017 = pd.read_csv(file_path + 'LCA_FY2017.csv')\n",
    "raw_data2017 = raw_data2017.rename({'CASE_SUBMITTED': 'RECEIVED_DATE', 'SOC_NAME': 'SOC_TITLE'}, axis=1)\n",
    "\n",
    "raw_data2018 = pd.read_csv(file_path + 'LCA_FY2018.csv')\n",
    "raw_data2018 = raw_data2018.rename({'CASE_SUBMITTED': 'RECEIVED_DATE', 'SOC_NAME': 'SOC_TITLE'}, axis=1)\n",
    "\n",
    "raw_data2020 = pd.concat(\n",
    "    map(pd.read_csv, [(file_path+'LCA_FY2020_Q1.csv'), (file_path+'LCA_FY2020_Q2.csv'), \n",
    "                      (file_path+'LCA_FY2020_Q3.csv'), (file_path+'LCA_FY2020_Q4.csv')]), ignore_index=True)\n",
    "\n",
    "raw_data2021 = pd.concat(\n",
    "    map(pd.read_csv, [(file_path+'LCA_FY2021_Q1.csv'), (file_path+'LCA_FY2021_Q2.csv'), \n",
    "                      (file_path+'LCA_FY2021_Q3.csv'), (file_path+'LCA_FY2021_Q4.csv')]), ignore_index=True)"
   ]
  },
  {
   "cell_type": "code",
   "execution_count": 2,
   "id": "b3ad725f",
   "metadata": {},
   "outputs": [],
   "source": [
    "def unique_companies(data):\n",
    "    data['EMPLOYER_NAME'] = data['EMPLOYER_NAME'].str.upper()\n",
    "    return data['EMPLOYER_NAME'].unique()"
   ]
  },
  {
   "cell_type": "code",
   "execution_count": 4,
   "id": "93b8ac0d",
   "metadata": {},
   "outputs": [],
   "source": [
    "companies_2016 = unique_companies(raw_data2016)\n",
    "companies_2017 = unique_companies(raw_data2017)\n",
    "companies_2018 = unique_companies(raw_data2018)\n",
    "companies_2020 = unique_companies(raw_data2020)\n",
    "companies_2021 = unique_companies(raw_data2021)"
   ]
  },
  {
   "cell_type": "code",
   "execution_count": 5,
   "id": "064e204b",
   "metadata": {},
   "outputs": [
    {
     "name": "stdout",
     "output_type": "stream",
     "text": [
      "72333\n",
      "71171\n",
      "70565\n",
      "63465\n",
      "60630\n"
     ]
    }
   ],
   "source": [
    "print(len(companies_2016))\n",
    "print(len(companies_2017))\n",
    "print(len(companies_2018))\n",
    "print(len(companies_2020))\n",
    "print(len(companies_2021))"
   ]
  },
  {
   "cell_type": "code",
   "execution_count": 11,
   "id": "892ce7fc",
   "metadata": {},
   "outputs": [
    {
     "name": "stdout",
     "output_type": "stream",
     "text": [
      "27160 companies have the same name in 2020 and 2021\n",
      "14712 companies have the same name in 2018 and 2020\n",
      "11441 companies have the same name in 2017 and 2018\n",
      "9183 companies have the same name in 2016 and 2017\n"
     ]
    }
   ],
   "source": [
    "overlap_2020_2021 = []\n",
    "for company in companies_2021:\n",
    "    if company in companies_2020:\n",
    "        overlap_2020_2021.append(company)\n",
    "print(f\"{len(overlap_2020_2021)} companies have the same name in 2020 and 2021\")\n",
    "\n",
    "overlap_2018_2020 = []\n",
    "for company in overlap_2020_2021:\n",
    "    if company in companies_2018:\n",
    "        overlap_2018_2020.append(company)\n",
    "print(f\"{len(overlap_2018_2020)} companies have the same name in 2018 and 2020\")\n",
    "\n",
    "overlap_2017_2018 = []\n",
    "for company in overlap_2018_2020:\n",
    "    if company in companies_2017:\n",
    "        overlap_2017_2018.append(company)\n",
    "print(f\"{len(overlap_2017_2018)} companies have the same name in 2017 and 2018\")\n",
    "\n",
    "overlap_2016_2017 = []\n",
    "for company in overlap_2017_2018:\n",
    "    if company in companies_2016:\n",
    "        overlap_2016_2017.append(company)\n",
    "print(f\"{len(overlap_2016_2017)} companies have the same name in 2016 and 2017\")"
   ]
  },
  {
   "cell_type": "code",
   "execution_count": 12,
   "id": "34f16cf6",
   "metadata": {},
   "outputs": [
    {
     "name": "stdout",
     "output_type": "stream",
     "text": [
      "9183\n"
     ]
    }
   ],
   "source": [
    "# final list of companies that have consistent names over the years\n",
    "print(len(overlap_2016_2017))"
   ]
  },
  {
   "cell_type": "code",
   "execution_count": 45,
   "id": "da0eaf86",
   "metadata": {},
   "outputs": [
    {
     "data": {
      "text/plain": [
       "67632.8"
      ]
     },
     "execution_count": 45,
     "metadata": {},
     "output_type": "execute_result"
    }
   ],
   "source": [
    "# average number of unique companies per year\n",
    "np.mean([len(companies_2021), len(companies_2020), len(companies_2018), len(companies_2017), len(companies_2016)])"
   ]
  }
 ],
 "metadata": {
  "kernelspec": {
   "display_name": "Python 3 (ipykernel)",
   "language": "python",
   "name": "python3"
  },
  "language_info": {
   "codemirror_mode": {
    "name": "ipython",
    "version": 3
   },
   "file_extension": ".py",
   "mimetype": "text/x-python",
   "name": "python",
   "nbconvert_exporter": "python",
   "pygments_lexer": "ipython3",
   "version": "3.7.2"
  }
 },
 "nbformat": 4,
 "nbformat_minor": 5
}
